{
 "cells": [
  {
   "cell_type": "markdown",
   "metadata": {},
   "source": [
    "## Data Loading"
   ]
  },
  {
   "cell_type": "code",
   "execution_count": 1,
   "metadata": {},
   "outputs": [],
   "source": [
    "#importing python libraries\n",
    "import pandas as pd\n",
    "import numpy as np\n",
    "import pickle"
   ]
  },
  {
   "cell_type": "code",
   "execution_count": 2,
   "metadata": {},
   "outputs": [],
   "source": [
    "df_recommendation_dataset = pd.DataFrame()\n",
    "df_author_recommendations = pd.DataFrame()\n",
    "df_books = pd.DataFrame()\n",
    "df_pivot_table = pd.DataFrame()\n",
    "df_similarity_scores = []\n",
    "def loadData():\n",
    "    global df_recommendation_dataset, df_author_recommendations, df_books, df_pivot_table, df_similarity_scores   \n",
    "    df_recommendation_dataset = df_recommendation_dataset.append(pickle.load(open('recommendation_dataset.pkl', 'rb')))\n",
    "    df_author_recommendations = df_author_recommendations.append(pickle.load(open('author_recommendations.pkl', 'rb')))\n",
    "    df_books = df_books.append(pickle.load(open('books.pkl', 'rb')))\n",
    "    df_pivot_table = df_pivot_table.append(pickle.load(open('pivot_table.pkl', 'rb')))\n",
    "    df_similarity_scores = pickle.load(open('similarity_scores.pkl', 'rb'))\n"
   ]
  },
  {
   "cell_type": "markdown",
   "metadata": {},
   "source": [
    "#### Create objects for the recommended books"
   ]
  },
  {
   "cell_type": "code",
   "execution_count": 4,
   "metadata": {},
   "outputs": [],
   "source": [
    "class Recommendations:\n",
    "    def __init__(self, title, books):\n",
    "        self.title = title\n",
    "        self.books = books\n",
    "        \n",
    "class Book:\n",
    "    def __init__(self, name, cover, author):\n",
    "        self.name = name\n",
    "        self.cover = cover\n",
    "        self.author = author"
   ]
  },
  {
   "cell_type": "markdown",
   "metadata": {},
   "source": [
    "#### Helper method to create books in custom list from dataframe"
   ]
  },
  {
   "cell_type": "code",
   "execution_count": 5,
   "metadata": {},
   "outputs": [],
   "source": [
    "import json\n",
    "def create_book_lists_helper(title, books):\n",
    "    recommendation_books = Recommendations(title, books)\n",
    "    return recommendation_books"
   ]
  },
  {
   "cell_type": "markdown",
   "metadata": {},
   "source": [
    "## Recommendation for same author"
   ]
  },
  {
   "cell_type": "code",
   "execution_count": 6,
   "metadata": {},
   "outputs": [],
   "source": [
    "#Recommend books by same author of the book with bookname as an input  \n",
    "def recommendation_by_same_author(bookname):\n",
    "    booksList = []\n",
    "    bookname = bookname.lower()\n",
    "    book_entry = df_author_recommendations[df_author_recommendations['Book-Title'].str.lower().str.contains(bookname)]\n",
    "    if book_entry.empty:\n",
    "        return create_book_lists_helper(\"oops! No author recommendations for the input\", booksList)\n",
    "    book_author = book_entry['Book-Author'].iloc[0]\n",
    "    author_recommendations = df_author_recommendations.loc[df_author_recommendations['Book-Author'] == book_author,:][:5]\n",
    "    author_recommendations.drop(author_recommendations.index[author_recommendations['Book-Title'] == bookname], inplace = True)\n",
    "    for book in author_recommendations.values.tolist():\n",
    "        rBook = Book(book[0], book[8], book[5])\n",
    "        booksList.append(rBook)\n",
    "    \n",
    "    return create_book_lists_helper(\"Top Books with same author\", booksList)\n",
    "    "
   ]
  },
  {
   "cell_type": "markdown",
   "metadata": {},
   "source": [
    "## Recommendation by the given author name"
   ]
  },
  {
   "cell_type": "code",
   "execution_count": 7,
   "metadata": {},
   "outputs": [],
   "source": [
    "def recommendation_by_given_author(authorName):\n",
    "    booksList = []\n",
    "    authorName = authorName.lower()\n",
    "    author_recommendations = df_author_recommendations.loc[df_author_recommendations['Book-Author'].str.lower().str.contains(authorName),:][:5]\n",
    "    if author_recommendations.empty:\n",
    "        return create_book_lists_helper(\"oops! No author recommendations for the input\", booksList)\n",
    "    for book in author_recommendations.values.tolist():\n",
    "        rBook = Book(book[0], book[8], book[5])\n",
    "        booksList.append(rBook)\n",
    "    return create_book_lists_helper(\"Similar top Books by given author\", booksList)"
   ]
  },
  {
   "cell_type": "markdown",
   "metadata": {},
   "source": [
    "## Recommendation for same publisher"
   ]
  },
  {
   "cell_type": "code",
   "execution_count": 8,
   "metadata": {},
   "outputs": [],
   "source": [
    "#Recommend books by same publisher of the book with bookname as an input  \n",
    "def recommendation_by_same_publisher(bookname):\n",
    "    booksList = []\n",
    "    bookname = bookname.lower()\n",
    "    book_entry = df_author_recommendations[df_author_recommendations['Book-Title'].str.lower().str.contains(bookname)]\n",
    "    if book_entry.empty:\n",
    "        return create_book_lists_helper(\"oops! No publisher recommendations for the input\", booksList)\n",
    "    book_publisher = book_entry['Publisher'].iloc[0]\n",
    "    publisher_recommendations = df_author_recommendations.loc[df_author_recommendations['Publisher'] == book_publisher,:][:5]\n",
    "    publisher_recommendations.drop(publisher_recommendations.index[publisher_recommendations['Book-Title'] == bookname], inplace = True)\n",
    "\n",
    "    for book in publisher_recommendations.values.tolist():\n",
    "        rBook = Book(book[0], book[8], book[5])\n",
    "        booksList.append(rBook)\n",
    "    return create_book_lists_helper(\"Top Books published by same publisher\", booksList) "
   ]
  },
  {
   "cell_type": "markdown",
   "metadata": {},
   "source": [
    "## Recommendation by the given publisher name"
   ]
  },
  {
   "cell_type": "code",
   "execution_count": 9,
   "metadata": {},
   "outputs": [],
   "source": [
    "#recommendation by the given publisher name\n",
    "def recommendation_by_given_publisher(publisherName):\n",
    "    booksList = []\n",
    "    publisherName = publisherName.lower()\n",
    "    author_recommendations = df_author_recommendations.loc[df_author_recommendations['Publisher'].str.lower().str.contains(publisherName),:][:5]\n",
    "    if author_recommendations.empty:\n",
    "        return create_book_lists_helper(\"oops! No publisher recommendations for the input\", booksList)\n",
    "    for book in author_recommendations.values.tolist():\n",
    "        rBook = Book(book[0], book[8], book[5])\n",
    "        booksList.append(rBook)\n",
    "    return create_book_lists_helper(\"Similar top Books by given publisher\", booksList)"
   ]
  },
  {
   "cell_type": "code",
   "execution_count": 10,
   "metadata": {},
   "outputs": [],
   "source": [
    "#similarity-scores\n",
    "from sklearn.metrics.pairwise import cosine_similarity\n",
    "df_similarity_scores = cosine_similarity(df_pivot_table)"
   ]
  },
  {
   "cell_type": "code",
   "execution_count": 11,
   "metadata": {},
   "outputs": [],
   "source": [
    "def collaborative_recommendation(book_name):\n",
    "    booksList = []\n",
    "    array_size = np.where(df_pivot_table.index== book_name)[0]\n",
    "    if array_size.size == 0:\n",
    "        return create_book_lists_helper(\"oops! No trending recommendations for the input\", booksList)\n",
    "    book_index = np.where(df_pivot_table.index==book_name)[0][0]\n",
    "    similar_books = sorted(list(enumerate(df_similarity_scores[book_index])),key=lambda x:x[1],reverse=True)[1:6]\n",
    "    if len(similar_books) == 0:\n",
    "        return create_book_lists_helper(\"Top trending similar books\", booksList)\n",
    "   \n",
    "    for book in similar_books:\n",
    "        temp_df = df_books[df_books['Book-Title'] == df_pivot_table.index[book[0]]]\n",
    "        book_title = temp_df.drop_duplicates('Book-Title')['Book-Title'].values\n",
    "        book_author = temp_df.drop_duplicates('Book-Title')['Book-Author'].values\n",
    "        cover_image = temp_df.drop_duplicates('Book-Title')['Image-URL-M'].values\n",
    "        rBook = Book(book_title[0], cover_image[0], book_author[0])\n",
    "        booksList.append(rBook)\n",
    "    \n",
    "    return create_book_lists_helper(\"Top trending similar books\", booksList)"
   ]
  },
  {
   "cell_type": "code",
   "execution_count": 12,
   "metadata": {},
   "outputs": [
    {
     "data": {
      "text/plain": [
       "<__main__.Recommendations at 0x2941fbd30>"
      ]
     },
     "execution_count": 12,
     "metadata": {},
     "output_type": "execute_result"
    }
   ],
   "source": [
    "collaborative_recommendation(\"1984\")"
   ]
  },
  {
   "cell_type": "markdown",
   "metadata": {},
   "source": [
    "## Books Published Yearly"
   ]
  },
  {
   "cell_type": "code",
   "execution_count": 13,
   "metadata": {},
   "outputs": [],
   "source": [
    "# get books published in the same year \n",
    "def getBooksYearly(year_or_book: int or str):\n",
    "    booksList = []\n",
    "    try:\n",
    "        year_of_publication = int(year_or_book)\n",
    "        #valid year checking\n",
    "        if (year_of_publication < 1300):\n",
    "            return create_book_lists_helper(\"oops! Please input the valid year between 1900 - 2022\", booksList)\n",
    "        elif (year_of_publication > 2022):\n",
    "            return create_book_lists_helper(\"oops! Please input the valid year between 1900 - 2022\", booksList)\n",
    "        \n",
    "        #filter books in the same year\n",
    "        same_year_books = df_recommendation_dataset[df_recommendation_dataset['Year-Of-Publication'] == year_of_publication]\n",
    "    except:\n",
    "        #check for book name\n",
    "        same_year_books = df_recommendation_dataset[df_recommendation_dataset['Book-Title'].str.lower().str.contains(year_or_book.lower())]\n",
    "        \n",
    "        #no books from the same year\n",
    "        if (len(same_year_books)== 0):\n",
    "            return create_book_lists_helper(\"oops! No yearly recommendations for the input\", booksList)        \n",
    "        \n",
    "        #year of publication of the same book\n",
    "        year_of_publication = same_year_books.iloc[0]['Year-Of-Publication']\n",
    "        same_year_books = df_recommendation_dataset[df_recommendation_dataset['Year-Of-Publication'] == year_of_publication]\n",
    "\n",
    "    if (len(same_year_books)== 0):\n",
    "        return create_book_lists_helper(\"Trending books in the same year\", booksList)\n",
    "\n",
    "    #top 5 rated books\n",
    "    same_year_books = same_year_books.sort_values(by=\"Book-Rating\", ascending=False)[:5]\n",
    "    \n",
    "    #dropping the duplicates\n",
    "    same_year_books = same_year_books.drop_duplicates(subset=[\"Book-Title\"])\n",
    "    \n",
    "    for i, book in same_year_books.iterrows():\n",
    "        rBook = Book(book[\"Book-Title\"], book[\"Image-URL-M\"], book[\"Book-Author\"])\n",
    "        booksList.append(rBook)\n",
    "    return create_book_lists_helper(\"Trending books in the same year\", booksList)"
   ]
  },
  {
   "cell_type": "markdown",
   "metadata": {},
   "source": [
    "## Books published at the given place"
   ]
  },
  {
   "cell_type": "code",
   "execution_count": 14,
   "metadata": {},
   "outputs": [],
   "source": [
    "#location as input\n",
    "def samePlaceBooks(place):\n",
    "    booksList = []\n",
    "    if place is not None:\n",
    "        place = place.lower()\n",
    "    \n",
    "    places = ((df_recommendation_dataset['City'].str.lower() == place) |\n",
    "            (df_recommendation_dataset['State'].str.lower() == place) |\n",
    "            (df_recommendation_dataset['Country'].str.lower() == place))\n",
    "    \n",
    "    if places.any():\n",
    "        same_place_books = df_recommendation_dataset[places]\n",
    "        #top 5 rated books\n",
    "        same_place_books = same_place_books.sort_values(by = \"Book-Rating\", ascending=False)[:5]\n",
    "        same_place_books = same_place_books.drop_duplicates(subset=[\"Book-Title\"])\n",
    "        if(len(same_place_books) == 0):\n",
    "            return create_book_lists_helper(\"oops! No recommendations for place input\", booksList)\n",
    "        for i, book in same_place_books.iterrows():\n",
    "            rBook = Book(book[\"Book-Title\"], book[\"Image-URL-M\"], book[\"Book-Author\"])\n",
    "            booksList.append(rBook)\n",
    "        return create_book_lists_helper(\"Trending books at the same location\", booksList)\n",
    "    else:\n",
    "        return create_book_lists_helper(\"oops! No recommendations for place input\", booksList)"
   ]
  },
  {
   "cell_type": "code",
   "execution_count": 15,
   "metadata": {},
   "outputs": [],
   "source": [
    "#book name as input\n",
    "def samePlaceBooksByTitle(book_name):\n",
    "    booksList = []\n",
    "    if book_name is not None:\n",
    "        book_name = book_name.lower()\n",
    "\n",
    "        #check for book name\n",
    "        same_place_books = df_recommendation_dataset[df_recommendation_dataset['Book-Title'].str.lower().str.contains(book_name.lower())]\n",
    "        \n",
    "        #no books from the same year\n",
    "        if (len(same_place_books) == 0):\n",
    "            return create_book_lists_helper(\"oops! No recommendations for place input\", booksList)\n",
    "            \n",
    "    places = ((df_recommendation_dataset['City'].str.lower() == same_place_books.iloc[0]['City'].lower()) |\n",
    "                  (df_recommendation_dataset['State'].str.lower() == same_place_books.iloc[0]['State'].lower()) |\n",
    "                  (df_recommendation_dataset['Country'].str.lower() == same_place_books.iloc[0]['Country'].lower()))\n",
    "    \n",
    "    if places.any():\n",
    "        same_place_books = df_recommendation_dataset[places]\n",
    "        #top 5 rated books\n",
    "        same_place_books = same_place_books.sort_values(by = \"Book-Rating\", ascending=False)[:5]\n",
    "        same_place_books = same_place_books.drop_duplicates(subset=[\"Book-Title\"])\n",
    "        if(len(same_place_books) == 0):\n",
    "            return create_book_lists_helper(\"oops! No recommendations for place input\", booksList)    \n",
    "        for i, book in same_place_books.iterrows():\n",
    "            rBook = Book(book[\"Book-Title\"], book[\"Image-URL-M\"], book[\"Book-Author\"])\n",
    "            booksList.append(rBook)\n",
    "        return create_book_lists_helper(\"Trending books at the same location\", booksList)\n",
    "    else:\n",
    "        return create_book_lists_helper(\"oops! No recommendations for place input\", booksList)    "
   ]
  },
  {
   "cell_type": "markdown",
   "metadata": {},
   "source": [
    "### Converting result to JSON format for frontend"
   ]
  },
  {
   "cell_type": "code",
   "execution_count": 16,
   "metadata": {},
   "outputs": [],
   "source": [
    "def results_in_json(finalRecommendations):   \n",
    "    result = json.dumps(finalRecommendations, default=lambda o: o.__dict__, indent=4)\n",
    "    return result"
   ]
  },
  {
   "cell_type": "code",
   "execution_count": 17,
   "metadata": {},
   "outputs": [],
   "source": [
    "# get Final results for all recommendations according to title\n",
    "def getAllRecommendationsByBookName(name):\n",
    "    finalRecommendations = []\n",
    "    results = collaborative_recommendation(name)\n",
    "    if len(results.books) > 0:\n",
    "        finalRecommendations.append(collaborative_recommendation(name))\n",
    "    results = recommendation_by_same_author(name)\n",
    "    if len(results.books) > 0:\n",
    "        finalRecommendations.append(recommendation_by_same_author(name))\n",
    "    results = recommendation_by_same_publisher(name)\n",
    "    if len(results.books) > 0:\n",
    "        finalRecommendations.append(recommendation_by_same_publisher(name))\n",
    "    results = getBooksYearly(name)\n",
    "    if len(results.books) > 0:\n",
    "        finalRecommendations.append(getBooksYearly(name))\n",
    "    results = samePlaceBooksByTitle(name)\n",
    "    if len(results.books) > 0:\n",
    "        finalRecommendations.append(samePlaceBooksByTitle(name))\n",
    "\n",
    "    if len(finalRecommendations) == 0:\n",
    "        finalRecommendations.append(create_book_lists_helper(\"No books found!\",[]))\n",
    "    \n",
    "    return results_in_json(finalRecommendations)\n",
    "\n",
    "def getAllRecommendationsByAuthorName(name):\n",
    "    finalRecommendations = []\n",
    "    finalRecommendations.append(recommendation_by_given_author(name))\n",
    "    return results_in_json(finalRecommendations)\n",
    "\n",
    "def getAllRecommendationsByPublisherName(name):\n",
    "    finalRecommendations = []\n",
    "    finalRecommendations.append(recommendation_by_given_publisher(name))\n",
    "    return results_in_json(finalRecommendations)\n",
    "\n",
    "def getAllRecommendationsByYear(name):\n",
    "    finalRecommendations = []\n",
    "    finalRecommendations.append(getBooksYearly(name))\n",
    "    return results_in_json(finalRecommendations)\n",
    "\n",
    "def getAllRecommendationsByLocation(name):\n",
    "    finalRecommendations = []\n",
    "    finalRecommendations.append(samePlaceBooks(name))\n",
    "    return results_in_json(finalRecommendations)"
   ]
  },
  {
   "cell_type": "code",
   "execution_count": 18,
   "metadata": {},
   "outputs": [
    {
     "data": {
      "text/plain": [
       "'[\\n    {\\n        \"title\": \"Top Books with same author\",\\n        \"books\": [\\n            {\\n                \"name\": \"Brave New World\",\\n                \"cover\": \"http://images.amazon.com/images/P/0060809833.01.MZZZZZZZ.jpg\",\\n                \"author\": \"Aldous Huxley\"\\n            },\\n            {\\n                \"name\": \"Fischer Taschenb\\\\u00c3?\\\\u00c2\\\\u00bccher, Bd.26, Sch\\\\u00c3?\\\\u00c2\\\\u00b6ne neue Welt\",\\n                \"cover\": \"http://images.amazon.com/images/P/3596200261.01.MZZZZZZZ.jpg\",\\n                \"author\": \"Aldous Huxley\"\\n            },\\n            {\\n                \"name\": \"Le Meilleur Des Mondes\",\\n                \"cover\": \"http://images.amazon.com/images/P/2266023101.01.MZZZZZZZ.jpg\",\\n                \"author\": \"Aldous Huxley\"\\n            },\\n            {\\n                \"name\": \"Brave New World &amp; Brave New World Revisited\",\\n                \"cover\": \"http://images.amazon.com/images/P/0060901012.01.MZZZZZZZ.jpg\",\\n                \"author\": \"Aldous Huxley\"\\n            },\\n            {\\n                \"name\": \"Island (Perennial Classics)\",\\n                \"cover\": \"http://images.amazon.com/images/P/0060085495.01.MZZZZZZZ.jpg\",\\n                \"author\": \"Aldous Huxley\"\\n            }\\n        ]\\n    },\\n    {\\n        \"title\": \"Top Books published by same publisher\",\\n        \"books\": [\\n            {\\n                \"name\": \"Watership Down\",\\n                \"cover\": \"http://images.amazon.com/images/P/038039586X.01.MZZZZZZZ.jpg\",\\n                \"author\": \"Richard George Adams\"\\n            },\\n            {\\n                \"name\": \"Brave New World\",\\n                \"cover\": \"http://images.amazon.com/images/P/0060809833.01.MZZZZZZZ.jpg\",\\n                \"author\": \"Aldous Huxley\"\\n            },\\n            {\\n                \"name\": \"Pigs in Heaven\",\\n                \"cover\": \"http://images.amazon.com/images/P/0060168013.01.MZZZZZZZ.jpg\",\\n                \"author\": \"Barbara Kingsolver\"\\n            },\\n            {\\n                \"name\": \"Temptation\",\\n                \"cover\": \"http://images.amazon.com/images/P/0002261529.01.MZZZZZZZ.jpg\",\\n                \"author\": \"Dermot Bolger\"\\n            },\\n            {\\n                \"name\": \"The Unbearable Lightness of Being\",\\n                \"cover\": \"http://images.amazon.com/images/P/0060914653.01.MZZZZZZZ.jpg\",\\n                \"author\": \"Milan Kundera\"\\n            }\\n        ]\\n    },\\n    {\\n        \"title\": \"Trending books in the same year\",\\n        \"books\": [\\n            {\\n                \"name\": \"True Believer\\'s\",\\n                \"cover\": \"http://images.amazon.com/images/P/0060800712.01.MZZZZZZZ.jpg\",\\n                \"author\": \"Eric Hoffer\"\\n            },\\n            {\\n                \"name\": \"Walden and Civil Disobedience\",\\n                \"cover\": \"http://images.amazon.com/images/P/0451513398.01.MZZZZZZZ.jpg\",\\n                \"author\": \"Henry David Thoreau\"\\n            },\\n            {\\n                \"name\": \"Great Short Works of Stephen Crane (Perennial Classic)\",\\n                \"cover\": \"http://images.amazon.com/images/P/0060830328.01.MZZZZZZZ.jpg\",\\n                \"author\": \"Stephen Crane\"\\n            }\\n        ]\\n    },\\n    {\\n        \"title\": \"Trending books at the same location\",\\n        \"books\": [\\n            {\\n                \"name\": \"In the Meantime : Finding Yourself and the Love You Want\",\\n                \"cover\": \"http://images.amazon.com/images/P/0684848066.01.MZZZZZZZ.jpg\",\\n                \"author\": \"Iyanla Vanzant\"\\n            },\\n            {\\n                \"name\": \"Hallmarks of Felinity : A 9 Chickweed Lane Book\",\\n                \"cover\": \"http://images.amazon.com/images/P/0740721992.01.MZZZZZZZ.jpg\",\\n                \"author\": \"Brooke McEldowney\"\\n            },\\n            {\\n                \"name\": \"The World According to Garp\",\\n                \"cover\": \"http://images.amazon.com/images/P/034536676X.01.MZZZZZZZ.jpg\",\\n                \"author\": \"John Irving\"\\n            },\\n            {\\n                \"name\": \"Into Thin Air : A Personal Account of the Mount Everest Disaster\",\\n                \"cover\": \"http://images.amazon.com/images/P/0679457526.01.MZZZZZZZ.jpg\",\\n                \"author\": \"JON KRAKAUER\"\\n            },\\n            {\\n                \"name\": \"Primary Colors: A Novel of Politics\",\\n                \"cover\": \"http://images.amazon.com/images/P/0679448594.01.MZZZZZZZ.jpg\",\\n                \"author\": \"Anonymous\"\\n            }\\n        ]\\n    }\\n]'"
      ]
     },
     "execution_count": 18,
     "metadata": {},
     "output_type": "execute_result"
    }
   ],
   "source": [
    "getAllRecommendationsByBookName(\"Brave new world\")"
   ]
  },
  {
   "cell_type": "code",
   "execution_count": null,
   "metadata": {},
   "outputs": [],
   "source": []
  }
 ],
 "metadata": {
  "kernelspec": {
   "display_name": "Python 3 (ipykernel)",
   "language": "python",
   "name": "python3"
  },
  "language_info": {
   "codemirror_mode": {
    "name": "ipython",
    "version": 3
   },
   "file_extension": ".py",
   "mimetype": "text/x-python",
   "name": "python",
   "nbconvert_exporter": "python",
   "pygments_lexer": "ipython3",
   "version": "3.10.9"
  },
  "vscode": {
   "interpreter": {
    "hash": "5c7b89af1651d0b8571dde13640ecdccf7d5a6204171d6ab33e7c296e100e08a"
   }
  }
 },
 "nbformat": 4,
 "nbformat_minor": 2
}
